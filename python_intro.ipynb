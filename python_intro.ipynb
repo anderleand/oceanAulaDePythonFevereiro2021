{
  "nbformat": 4,
  "nbformat_minor": 0,
  "metadata": {
    "colab": {
      "name": "python_intro.ipynb",
      "provenance": [],
      "collapsed_sections": [],
      "include_colab_link": true
    },
    "kernelspec": {
      "name": "python3",
      "display_name": "Python 3"
    }
  },
  "cells": [
    {
      "cell_type": "markdown",
      "metadata": {
        "id": "view-in-github",
        "colab_type": "text"
      },
      "source": [
        "<a href=\"https://colab.research.google.com/github/anderleand/oceanAulaDePythonFevereiro2021/blob/main/python_intro.ipynb\" target=\"_parent\"><img src=\"https://colab.research.google.com/assets/colab-badge.svg\" alt=\"Open In Colab\"/></a>"
      ]
    },
    {
      "cell_type": "markdown",
      "metadata": {
        "id": "s1YHdkKsLHv0"
      },
      "source": [
        "## Python: Conhecendo a Linguagem\n",
        "\n"
      ]
    },
    {
      "cell_type": "markdown",
      "metadata": {
        "id": "1gApdkqgLXKj"
      },
      "source": [
        "# O que é Programação?"
      ]
    },
    {
      "cell_type": "markdown",
      "metadata": {
        "id": "CO1A_FvGS1ta"
      },
      "source": [
        "## O que é um programa de computador?\n",
        "## O que é um algoritmo?"
      ]
    },
    {
      "cell_type": "markdown",
      "metadata": {
        "id": "DMgkyMTTL19Z"
      },
      "source": [
        "# Um pouco mais Sobre o Python"
      ]
    },
    {
      "cell_type": "markdown",
      "metadata": {
        "id": "tYa8OguAS87U"
      },
      "source": [
        "## O que programar? (aplicações)\n",
        "## Aonde programar? (ambientes)\n",
        "## Como instalar o interpretador? "
      ]
    },
    {
      "cell_type": "markdown",
      "metadata": {
        "id": "6TwoUJstMFLm"
      },
      "source": [
        "# A linguagem (\"Hello World\")"
      ]
    },
    {
      "cell_type": "code",
      "metadata": {
        "id": "C9WsLUJoT0bP",
        "colab": {
          "base_uri": "https://localhost:8080/"
        },
        "outputId": "37e413c9-dc0d-48e5-f1a9-f95469b3581c"
      },
      "source": [
        "print(\"Hello World\")"
      ],
      "execution_count": null,
      "outputs": [
        {
          "output_type": "stream",
          "text": [
            "Hello World\n"
          ],
          "name": "stdout"
        }
      ]
    },
    {
      "cell_type": "markdown",
      "metadata": {
        "id": "DZ7l7kimMJG3"
      },
      "source": [
        "#Tipos de Dados básicos"
      ]
    },
    {
      "cell_type": "code",
      "metadata": {
        "id": "30Z0YovCLGcO",
        "colab": {
          "base_uri": "https://localhost:8080/"
        },
        "outputId": "7b693bc0-9027-4c33-e545-e185716d3e7d"
      },
      "source": [
        "print(type(2)) # O tipo do número 2 é int (número inteiro)\n",
        "print(type(2.5)) # O tipo do número 2.5 é float (número decimal)\n",
        "print(type(1+1j)) # O tipo do número 1 + 1j (j é o número imaginário) é complex\n",
        "print(type(\"O termo 'termo' esta entre aspas\\n\")) # Sequencia de caracteres para armazenar texto\n",
        "print(type(False)) # tipo booleano para Verdadeiro (True) e Falso (False)"
      ],
      "execution_count": null,
      "outputs": [
        {
          "output_type": "stream",
          "text": [
            "<class 'int'>\n",
            "<class 'float'>\n",
            "<class 'complex'>\n",
            "<class 'str'>\n",
            "<class 'bool'>\n"
          ],
          "name": "stdout"
        }
      ]
    },
    {
      "cell_type": "code",
      "metadata": {
        "id": "B8qoPonShEqQ"
      },
      "source": [
        ""
      ],
      "execution_count": null,
      "outputs": []
    },
    {
      "cell_type": "markdown",
      "metadata": {
        "id": "aU6gFhrxM8TS"
      },
      "source": [
        "## Variáveis\n",
        "\n",
        "Uma variável não pode ter o nome comçado por números, eveitmem palavras-chave da linaguagem e caracateres especiais"
      ]
    },
    {
      "cell_type": "code",
      "metadata": {
        "id": "ChunySn1M-oz"
      },
      "source": [
        "altura_do_guilherme = 1.90 # nome_da_variavel = valor\n",
        "texto = \"Hello world\"\n",
        "chovendo = True"
      ],
      "execution_count": null,
      "outputs": []
    },
    {
      "cell_type": "code",
      "metadata": {
        "id": "f8oZIuse2f3u",
        "colab": {
          "base_uri": "https://localhost:8080/"
        },
        "outputId": "64426c4d-054d-4e05-eb8e-16af3dde4c74"
      },
      "source": [
        "print(altura_do_guilherme, texto, chovendo)"
      ],
      "execution_count": null,
      "outputs": [
        {
          "output_type": "stream",
          "text": [
            "1.9 Hello world True\n"
          ],
          "name": "stdout"
        }
      ]
    },
    {
      "cell_type": "markdown",
      "metadata": {
        "id": "1NlSUBtMM_7H"
      },
      "source": [
        "## Operações básicas (e nem tão básicas)"
      ]
    },
    {
      "cell_type": "markdown",
      "metadata": {
        "id": "ZTpQVXKzNHtY"
      },
      "source": [
        "### Com dados numéricos"
      ]
    },
    {
      "cell_type": "code",
      "metadata": {
        "id": "-UCzQIB9NF-j",
        "colab": {
          "base_uri": "https://localhost:8080/"
        },
        "outputId": "27855ff0-aa4c-4fa3-d8d7-8ac7d5a48be5"
      },
      "source": [
        "print(2.5+5j + 1) # o '+' é a soma usual\n",
        "print(10 - 1) # o '-' é a subtração usual\n",
        "print(2 * -2.5) # o '*' é a multiplicação usual\n",
        "print(10 / 3) # o '/' é a divisão usual\n",
        "\n",
        "print(4 ** -0.5) # o '**' é a potenciação\n",
        "print(10 // 4 ) # o '//' é o quociente da divisão inteira\n",
        "print(10 % 4) # o '%' é o resto da divisão inteiro"
      ],
      "execution_count": null,
      "outputs": [
        {
          "output_type": "stream",
          "text": [
            "(3.5+5j)\n",
            "9\n",
            "-5.0\n",
            "3.3333333333333335\n",
            "0.5\n",
            "2\n",
            "2\n"
          ],
          "name": "stdout"
        }
      ]
    },
    {
      "cell_type": "markdown",
      "metadata": {
        "id": "Nh39_SevNKtR"
      },
      "source": [
        "### Com dados texto"
      ]
    },
    {
      "cell_type": "code",
      "metadata": {
        "id": "pjuPh9l2N61P",
        "colab": {
          "base_uri": "https://localhost:8080/"
        },
        "outputId": "9f20c990-6cbd-4f2e-877d-80201a2fd0cc"
      },
      "source": [
        "anos = input(\"Digite sua idade: \")\n",
        "frase = \"Ola eu sou Guilherme e tenho \" + anos  + \" anos\" # o '+' é a concatenação de strings\n",
        "print(frase)\n",
        "print(\"repete \" * 2) # o '*' repete a string x vezes onde x é um número inteiro"
      ],
      "execution_count": null,
      "outputs": [
        {
          "output_type": "stream",
          "text": [
            "Digite sua idade: 50\n",
            "Ola eu sou Guilherme e tenho 50 anos\n",
            "repete repete \n"
          ],
          "name": "stdout"
        }
      ]
    },
    {
      "cell_type": "code",
      "metadata": {
        "colab": {
          "base_uri": "https://localhost:8080/",
          "height": 35
        },
        "id": "dEi9baHlTn91",
        "outputId": "6c727f23-c12f-4b91-b73f-352764640f04"
      },
      "source": [
        "(\"oi \" + \"tudo bem \") * 4"
      ],
      "execution_count": null,
      "outputs": [
        {
          "output_type": "execute_result",
          "data": {
            "application/vnd.google.colaboratory.intrinsic+json": {
              "type": "string"
            },
            "text/plain": [
              "'oi tudo bem oi tudo bem oi tudo bem oi tudo bem '"
            ]
          },
          "metadata": {
            "tags": []
          },
          "execution_count": 15
        }
      ]
    },
    {
      "cell_type": "code",
      "metadata": {
        "id": "IcdPs7g9k0YX",
        "colab": {
          "base_uri": "https://localhost:8080/",
          "height": 167
        },
        "outputId": "9454a75c-573b-46b3-c534-fe7fb773440e"
      },
      "source": [
        "5 + \"5\" # não funciona"
      ],
      "execution_count": null,
      "outputs": [
        {
          "output_type": "error",
          "ename": "TypeError",
          "evalue": "ignored",
          "traceback": [
            "\u001b[0;31m---------------------------------------------------------------------------\u001b[0m",
            "\u001b[0;31mTypeError\u001b[0m                                 Traceback (most recent call last)",
            "\u001b[0;32m<ipython-input-29-25412825f0ad>\u001b[0m in \u001b[0;36m<module>\u001b[0;34m()\u001b[0m\n\u001b[0;32m----> 1\u001b[0;31m \u001b[0;36m5\u001b[0m \u001b[0;34m+\u001b[0m \u001b[0;34m\"5\"\u001b[0m \u001b[0;31m# não funciona\u001b[0m\u001b[0;34m\u001b[0m\u001b[0;34m\u001b[0m\u001b[0m\n\u001b[0m",
            "\u001b[0;31mTypeError\u001b[0m: unsupported operand type(s) for +: 'int' and 'str'"
          ]
        }
      ]
    },
    {
      "cell_type": "markdown",
      "metadata": {
        "id": "yIOzt-VHN8hi"
      },
      "source": [
        "### Com booleanos"
      ]
    },
    {
      "cell_type": "code",
      "metadata": {
        "id": "Cxw63HxZSCLl",
        "colab": {
          "base_uri": "https://localhost:8080/"
        },
        "outputId": "2768414f-2506-47aa-9607-e2f552584522"
      },
      "source": [
        "False +  False# converte o True para 1 e o False para 0 e faz numericamente"
      ],
      "execution_count": null,
      "outputs": [
        {
          "output_type": "execute_result",
          "data": {
            "text/plain": [
              "0"
            ]
          },
          "metadata": {
            "tags": []
          },
          "execution_count": 30
        }
      ]
    },
    {
      "cell_type": "code",
      "metadata": {
        "id": "EcB7GNrHN_fQ",
        "colab": {
          "base_uri": "https://localhost:8080/"
        },
        "outputId": "e0ee9e90-be7f-4723-9e03-0166bfbc9542"
      },
      "source": [
        "True + 4 "
      ],
      "execution_count": null,
      "outputs": [
        {
          "output_type": "execute_result",
          "data": {
            "text/plain": [
              "5"
            ]
          },
          "metadata": {
            "tags": []
          },
          "execution_count": 17
        }
      ]
    },
    {
      "cell_type": "code",
      "metadata": {
        "id": "GIIi8k8pmjUB",
        "colab": {
          "base_uri": "https://localhost:8080/"
        },
        "outputId": "67a60e55-1a52-4fd5-b080-ad65c978f704"
      },
      "source": [
        "# conversão de tipos de Dados\n",
        "\n",
        "string = \"34.5\"\n",
        "numero = float(string)\n",
        "numero + 10"
      ],
      "execution_count": null,
      "outputs": [
        {
          "output_type": "execute_result",
          "data": {
            "text/plain": [
              "44.5"
            ]
          },
          "metadata": {
            "tags": []
          },
          "execution_count": 34
        }
      ]
    },
    {
      "cell_type": "code",
      "metadata": {
        "colab": {
          "base_uri": "https://localhost:8080/",
          "height": 35
        },
        "id": "h1Im3kkaVyEO",
        "outputId": "f1c5eec2-6e4d-4492-a4d4-ca0a11823078"
      },
      "source": [
        "a= 10\n",
        "str(a)"
      ],
      "execution_count": null,
      "outputs": [
        {
          "output_type": "execute_result",
          "data": {
            "application/vnd.google.colaboratory.intrinsic+json": {
              "type": "string"
            },
            "text/plain": [
              "'10'"
            ]
          },
          "metadata": {
            "tags": []
          },
          "execution_count": 37
        }
      ]
    },
    {
      "cell_type": "code",
      "metadata": {
        "id": "ZXpfLxgOiwas",
        "colab": {
          "base_uri": "https://localhost:8080/"
        },
        "outputId": "dabcb270-6216-46cb-b34f-04f7f5855d07"
      },
      "source": [
        "### Escreva uma sequência de operações em python que converta um valor em real para dólar\n",
        "valor_em_real = float(input(\"Digite o valor em reais: \"))\n",
        "valor_em_dolar = valor_em_real / 5.62\n",
        "saida = f'O valor é $ {valor_em_dolar:.2f} dolar'\n",
        "print(saida) \n",
        "## Escreva uma sequência de operações em python que converta um valor em dólar para real"
      ],
      "execution_count": null,
      "outputs": [
        {
          "output_type": "stream",
          "text": [
            "Digite o valor em reais: 5.62\n",
            "O valor é $ 1.00 dolar\n"
          ],
          "name": "stdout"
        }
      ]
    },
    {
      "cell_type": "code",
      "metadata": {
        "id": "4TMp9tEvW30k"
      },
      "source": [
        "## Exercicio Conversão de Celsius para Farenheit\n",
        "\n",
        "##  C * 9/5  + 32 = F "
      ],
      "execution_count": null,
      "outputs": []
    },
    {
      "cell_type": "code",
      "metadata": {
        "colab": {
          "base_uri": "https://localhost:8080/"
        },
        "id": "VFOW4TAsXe0p",
        "outputId": "eb98e1b6-8727-41da-acb3-50aca512b30f"
      },
      "source": [
        "#Marco\n",
        "temperatura_Celcius = float(input(\"Digite a temperatura atual em Celcius: \"))\n",
        "temperatura_em_F = temperatura_Celcius * 9 / 5 + 32\n",
        "saida = f'A temperatura em F é {temperatura_em_F:.2f} Farenheit'\n",
        "print(saida) "
      ],
      "execution_count": null,
      "outputs": [
        {
          "output_type": "stream",
          "text": [
            "Digite a temperatura atual em Celcius: 0\n",
            "A temperatura em F é 32.00 Farenheit\n"
          ],
          "name": "stdout"
        }
      ]
    },
    {
      "cell_type": "code",
      "metadata": {
        "colab": {
          "base_uri": "https://localhost:8080/"
        },
        "id": "LLgpC5XtXm6E",
        "outputId": "1484cd9d-fb71-4366-efd8-20c67412dfe4"
      },
      "source": [
        "#Pedro\n",
        "temp = float(input(\"Qual a sua temperatura em ºC? \"))\n",
        "f = (temp * 9/5) + 32\n",
        "print(f\"Sua temperatura em Farenheit é de {f:.2f}\") "
      ],
      "execution_count": null,
      "outputs": [
        {
          "output_type": "stream",
          "text": [
            "Qual a sua temperatura em ºC? 0\n",
            "Sua temperatura em Farenheit é de 32.00\n"
          ],
          "name": "stdout"
        }
      ]
    },
    {
      "cell_type": "code",
      "metadata": {
        "colab": {
          "base_uri": "https://localhost:8080/"
        },
        "id": "UCOg54kAXwm5",
        "outputId": "57eade7d-62c1-4d16-beca-173d805fc6ae"
      },
      "source": [
        "#Kaciana\n",
        "temperatura_Celcius = float(input(\"Digite a temperatura atual em Celcius: \"))\n",
        "temperatura_em_F = temperatura_Celcius*9/5+32\n",
        "saida = f'A temperatura em F é $ {temperatura_em_F:.2f} Farenheit'\n",
        "print(saida) "
      ],
      "execution_count": null,
      "outputs": [
        {
          "output_type": "stream",
          "text": [
            "Digite a temperatura atual em Celcius: 180\n",
            "A temperatura em F é $ 356.00 Farenheit\n"
          ],
          "name": "stdout"
        }
      ]
    },
    {
      "cell_type": "code",
      "metadata": {
        "colab": {
          "base_uri": "https://localhost:8080/"
        },
        "id": "cXVz32K2YDRA",
        "outputId": "22a1a245-d24d-4f48-d7a1-c740b7b208e7"
      },
      "source": [
        "\n",
        "# Ernineu\n",
        "c = float(input(\"Digite a temperatura em celsus: \"))\n",
        "f = c * 9/5 + 32;\n",
        "print(\"O valor em Farenheit eh:\", f) "
      ],
      "execution_count": null,
      "outputs": [
        {
          "output_type": "stream",
          "text": [
            "Digite a temperatura em celsus: 0\n",
            "O valor em Farenheit eh: 32.0\n"
          ],
          "name": "stdout"
        }
      ]
    },
    {
      "cell_type": "code",
      "metadata": {
        "colab": {
          "base_uri": "https://localhost:8080/"
        },
        "id": "T4xMAqtQYILC",
        "outputId": "2dee2661-f5fa-4cfe-ed62-12196d59e8d5"
      },
      "source": [
        "#Ray\n",
        "valor_em_celsius = float(input(\"Digite o valor em Celsius: \"))\n",
        "valor_em_farenheit = valor_em_celsius * 9/5 + 32\n",
        "saida = f'O valor é {valor_em_farenheit:.2f} º F' \n",
        "print(saida) "
      ],
      "execution_count": null,
      "outputs": [
        {
          "output_type": "stream",
          "text": [
            "Digite o valor em Celsius: 0\n",
            "O valor é 32.00 º F\n"
          ],
          "name": "stdout"
        }
      ]
    },
    {
      "cell_type": "code",
      "metadata": {
        "colab": {
          "base_uri": "https://localhost:8080/"
        },
        "id": "N6MLrc8ub5qd",
        "outputId": "679edb87-80e4-4511-eb00-6fcfe32aa24f"
      },
      "source": [
        "valor_em_celsius = float(input(\"Digite o valor em Celsius: \"))\n",
        "valor_em_farenheit = valor_em_celsius * 9/5 + 32\n",
        "saida = f'O valor é {valor_em_farenheit:.2f} º F'\n",
        "print(saida) "
      ],
      "execution_count": null,
      "outputs": [
        {
          "output_type": "stream",
          "text": [
            "Digite o valor em Celsius: 0\n",
            "O valor é 32.00 º F\n"
          ],
          "name": "stdout"
        }
      ]
    },
    {
      "cell_type": "markdown",
      "metadata": {
        "id": "Y19Z_OGlRlSE"
      },
      "source": [
        "# Desvios condicionais"
      ]
    },
    {
      "cell_type": "markdown",
      "metadata": {
        "id": "5G2rYzuzRrOL"
      },
      "source": [
        "if condicao:\n",
        "  codigo para executar quando a consiçãão for verdadeira\n",
        "  mais codigo\n",
        "  mais codigo\n",
        "outros códigos que não dependem da condição"
      ]
    },
    {
      "cell_type": "code",
      "metadata": {
        "id": "1OjGyX-is8U-",
        "colab": {
          "base_uri": "https://localhost:8080/"
        },
        "outputId": "971ea30d-77d2-4ba1-b265-61e4bb1c8932"
      },
      "source": [
        "print('executa antes do if')\n",
        "if True:\n",
        "  print('Era verdadeira')\n",
        "  print('Outro Texto dentro do if')\n",
        "print('Imprimo independente do if')"
      ],
      "execution_count": null,
      "outputs": [
        {
          "output_type": "stream",
          "text": [
            "executa antes do if\n",
            "Outro Texto dentro do if\n",
            "Imprimo independente do if\n"
          ],
          "name": "stdout"
        }
      ]
    },
    {
      "cell_type": "code",
      "metadata": {
        "id": "7DBV1KJYvjkB",
        "colab": {
          "base_uri": "https://localhost:8080/"
        },
        "outputId": "7dd0592b-a796-4c5a-bca9-1696a4f53316"
      },
      "source": [
        "# Operadores de Comparação \n",
        "\n",
        "print(\"3 == 2:\", 3 == 2) # '==' representa igualdade \n",
        "print('\"texto\" == \"texto\":', \"texto\" == \"texto\")\n",
        "print('\"2.34\" == 2.34:', \"2.34\" == 2.34)\n",
        "variavel = '5.78'\n",
        "print(\"variavel == 5.78:\", variavel == '5.78')\n",
        "\n",
        "print(\"2 > 3:\", 2 > 3) # '>' verifica se o número a esquerda do símbolo é maior que o da direita\n",
        "print(\"2 > 2:\", 2 > 2)\n",
        "print(\"2 < 3:\", 2 < 3) # '<' verifica se o número a esquerda do símbolo é menor que o da direita\n",
        "print(\"2 < 2:\", 2 < 2)\n",
        "\n",
        "print(\"2 >= 3:\", 2 >= 3) # '>=' verifica se o número a esquerda do símbolo é maior ou igual que o da direita\n",
        "print(\"2 >= 2:\", 2 >= 2)\n",
        "print(\"2 <= 3:\", 2 <= 3) # '<=' verifica se o número a esquerda do símbolo é menor ou igual que o da direita\n",
        "print(\"2 <= 2:\", 2 <= 2)\n",
        "\n",
        "print(\"3 != 2:\", 3 != 2) # '!=' verifica se os números são diferentes \n",
        "print(\"2 != 2:\", 2 != 2) # '!=' verifica se os números são diferentes "
      ],
      "execution_count": null,
      "outputs": [
        {
          "output_type": "stream",
          "text": [
            "3 == 2: False\n",
            "\"texto\" == \"texto\": True\n",
            "\"2.34\" == 2.34: False\n",
            "variavel == 5.78: True\n",
            "2 > 3: False\n",
            "2 > 2: False\n",
            "2 < 3: True\n",
            "2 < 2: False\n",
            "2 >= 3: False\n",
            "2 >= 2: True\n",
            "2 <= 3: True\n",
            "2 <= 2: True\n",
            "3 != 2: True\n",
            "2 != 2: False\n"
          ],
          "name": "stdout"
        }
      ]
    },
    {
      "cell_type": "code",
      "metadata": {
        "id": "Aw2iw7Kdyhyq",
        "colab": {
          "base_uri": "https://localhost:8080/"
        },
        "outputId": "da9bcf2c-57ab-4f93-b88b-4fb2342de281"
      },
      "source": [
        "# a*x² + b*x + c = 0\n",
        "\n",
        "# x² - x + 1 = 0 -> delta = -3 < 0\n",
        "# x² +2x + 1 = 0 -> delta = 0\n",
        "# x^2 - 4x = 0 - > delta = 16 > 0\n",
        "\n",
        "# le os dados de entrada\n",
        "a = float(input(\"Digite o valor de a: \"))\n",
        "b = float(input(\"Digite o valor de b: \"))\n",
        "c = float(input(\"digite o valor de c: \"))\n",
        "\n",
        "\n",
        "print(f\"O problema que você quer resolver é: {a}x² + {b}x + {c} = 0\")\n",
        "# Calcula o Delta\n",
        "\n",
        "delta = b * b - 4 * a * c\n",
        "print(f\"Delta é igual a: {delta:.3f}\")\n",
        "\n",
        "if delta > 0:\n",
        "  x1 = (-b + delta ** 0.5)/(2 * a)\n",
        "  x2 = (-b - delta ** 0.5)/(2 * a)\n",
        "  print(f\"O problema tem 2 soluções: {x1:.3f} e {x2:.3f}\")\n",
        "\n",
        "elif delta < 0:\n",
        "  print(\"O problema não tem soluções reais\")\n",
        "\n",
        "else:\n",
        "  x = (-b + delta ** 0.5)/(2 * a)\n",
        "  print(f\"O problema possui apenas uma solução: {x}\")"
      ],
      "execution_count": null,
      "outputs": [
        {
          "output_type": "stream",
          "text": [
            "Digite o valor de a: 1\n",
            "Digite o valor de b: 2\n",
            "digite o valor de c: 1\n",
            "O problema que você quer resolver é: 1.0x² + 2.0x + 1.0 = 0\n",
            "Delta é igual a: 0.000\n",
            "O problema possui apenas uma solução: -1.0\n"
          ],
          "name": "stdout"
        }
      ]
    },
    {
      "cell_type": "code",
      "metadata": {
        "id": "yhmC1YFR1ZOf",
        "colab": {
          "base_uri": "https://localhost:8080/"
        },
        "outputId": "2df8f668-4423-46ce-d6b9-7827dbf2ceff"
      },
      "source": [
        "##  Carro flex \n",
        "\n",
        "## se o valor etanol dor maior que 70% do valor do valor gasolina -> gasolina\n",
        "## se o valor do etanol for menor ou igual a 70% do valor gasolina -> etanol\n",
        "\n",
        "\n",
        "#gasolina, etanol = 4, 1 # etanol\n",
        "#gasolina, etanol = 4, 3 # gasolina\n",
        "#gasolina, etanol = 10, 7 # etanol\n",
        "#gasolina, etanol = 10, 7.0000000001\n",
        "\n",
        "gasolina = float(input(\"Informe o vlor da gasoolina: \"))\n",
        "etanol = float(input(\"Informe o valor do etanol: \"))\n",
        "coeficiente = etanol/ gasolina\n",
        "if coeficiente > 0.7:\n",
        "  print(\"Gasolina\")\n",
        "else:\n",
        "  print(\"Etanol\")"
      ],
      "execution_count": null,
      "outputs": [
        {
          "output_type": "stream",
          "text": [
            "Gasolina\n"
          ],
          "name": "stdout"
        }
      ]
    },
    {
      "cell_type": "code",
      "metadata": {
        "id": "q_iWTDnJzC8S"
      },
      "source": [
        ""
      ],
      "execution_count": null,
      "outputs": []
    },
    {
      "cell_type": "markdown",
      "metadata": {
        "id": "zGNPUq9q3AYn"
      },
      "source": [
        "### Exercicio\n",
        "dada a tabela o IR, faça um programa que recebe o salário de um trabalhador e devolve o valor do imposto.\n",
        "\n",
        "|Base de cálculo (R$)\t|Alíquota (%)|\n",
        "--------------------- |-------------|\n",
        "|Abaixo de 1.903,99    | 0%  |\n",
        "|De 1.903,99 até 2.826,65|\t7,5%\t|\n",
        "|De 2.826,66 até 3.751,05|\t15%\t|\n",
        "|De 3.751,06 até 4.664,68|\t22,5%\t|\n",
        "|Acima de 4.664,68|\t27,5%|"
      ]
    },
    {
      "cell_type": "code",
      "metadata": {
        "id": "HKHvlmmN37VH",
        "colab": {
          "base_uri": "https://localhost:8080/",
          "height": 53
        },
        "outputId": "2f14dfaa-991a-4101-d300-d71774ce6080"
      },
      "source": [
        "# Solução\n",
        "salario = float(input(\"Digite seu salário mensal: \"))\n",
        "if salario < 1903.99:\n",
        "  valor = 0\n",
        "elif salario <= 2826.65:\n",
        "  valor = salario * 0.075 \n",
        "elif salario <= 3751.05:\n",
        "  valor = salario * 0.15\n",
        "elif salario <= 4664.68:\n",
        "  valor = salario * 0.225\n",
        "else:\n",
        "  valor = salario * 0.275 \n",
        "print(f\"O valor a ser pago de IR é R${valor:.2f}\")"
      ],
      "execution_count": null,
      "outputs": [
        {
          "output_type": "stream",
          "text": [
            "Digite seu salário mensal: 10000\n",
            "O valor a ser pago de IR é R$2750.00\n"
          ],
          "name": "stdout"
        }
      ]
    },
    {
      "cell_type": "markdown",
      "metadata": {
        "id": "t_3jPIRCRuLl"
      },
      "source": [
        "# Laços de repetição"
      ]
    },
    {
      "cell_type": "markdown",
      "metadata": {
        "id": "e7KoKb_pR0Qa"
      },
      "source": [
        "## While (enquanto)"
      ]
    },
    {
      "cell_type": "markdown",
      "metadata": {
        "id": "aMCzwTRfvESf"
      },
      "source": [
        "while condição:\n",
        "  executa código para a condição verdadeira"
      ]
    },
    {
      "cell_type": "code",
      "metadata": {
        "id": "vLwOuQHdSBhV",
        "colab": {
          "base_uri": "https://localhost:8080/"
        },
        "outputId": "170a4c86-bcb2-475e-9452-89fce2d381eb"
      },
      "source": [
        "numero = 1 # inicialização\n",
        "\n",
        "while numero <= 10: # a condiçãão é verdadeira\n",
        "  print(numero)\n",
        "  numero = numero + 5 # atualiza a condiçãão\n",
        "print('terminou')\n"
      ],
      "execution_count": null,
      "outputs": [
        {
          "output_type": "stream",
          "text": [
            "1\n",
            "6\n",
            "terminou\n"
          ],
          "name": "stdout"
        }
      ]
    },
    {
      "cell_type": "code",
      "metadata": {
        "colab": {
          "base_uri": "https://localhost:8080/"
        },
        "id": "4BsdnkpXwlP4",
        "outputId": "519206fb-dbb9-4269-c42e-65fca1060db9"
      },
      "source": [
        "numero = 0\n",
        "\n",
        "\n",
        "while numero <= 10:\n",
        "  print(numero, end=\" \")\n",
        "  numero = numero + 1\n"
      ],
      "execution_count": null,
      "outputs": [
        {
          "output_type": "stream",
          "text": [
            "0 1 2 3 4 5 6 7 8 9 10 "
          ],
          "name": "stdout"
        }
      ]
    },
    {
      "cell_type": "code",
      "metadata": {
        "colab": {
          "base_uri": "https://localhost:8080/"
        },
        "id": "JOHNNi2e1YMK",
        "outputId": "6bf59b26-fe49-40ee-c588-836cfb812f86"
      },
      "source": [
        "base = 2\n",
        "expoente = 3\n",
        "\n",
        "resultado = 1\n",
        "while expoente > 0:\n",
        "  resultado = resultado * base\n",
        "  expoente = expoente - 1\n",
        "\n",
        "print(resultado)\n"
      ],
      "execution_count": null,
      "outputs": [
        {
          "output_type": "stream",
          "text": [
            "8\n"
          ],
          "name": "stdout"
        }
      ]
    },
    {
      "cell_type": "code",
      "metadata": {
        "id": "eUk0gZqw3m6-",
        "colab": {
          "base_uri": "https://localhost:8080/"
        },
        "outputId": "d301b673-eeb1-4a78-e219-fbdf361f3855"
      },
      "source": [
        "## Le números o usuário até ele digitar o numero -1 (ok)\n",
        "## calcula a média dos números digitados\n",
        "\n",
        "lista_de_notas = []\n",
        "nota = float(input(\"digite um número ou -1 para parar: \")) # inicialização\n",
        "while nota != -1: # enquanto a condição for verdadeira\n",
        "  lista_de_notas.append(nota)\n",
        "  nota = float(input(\"digite um número ou -1 para parar: \")) # atualização\n",
        "\n",
        "\n",
        "soma = 0\n",
        "for elem in lista_de_notas:\n",
        "  soma = soma + elem\n",
        "\n",
        "if len(lista_de_notas) == 0:\n",
        "  print('não posso calcular média de 0 notas')\n",
        "else:\n",
        "  print(f\"A média dos numero é: {soma/len(lista_de_notas):.2f}\")"
      ],
      "execution_count": null,
      "outputs": [
        {
          "output_type": "stream",
          "text": [
            "digite um número ou -1 para parar: 1\n",
            "digite um número ou -1 para parar: 2\n",
            "digite um número ou -1 para parar: 3\n",
            "digite um número ou -1 para parar: -1\n",
            "A média dos numero é: 2.00\n"
          ],
          "name": "stdout"
        }
      ]
    },
    {
      "cell_type": "markdown",
      "metadata": {
        "id": "Vs5AG3tpR5Tg"
      },
      "source": [
        "2\n",
        "## For (para cada)"
      ]
    },
    {
      "cell_type": "code",
      "metadata": {
        "id": "ExWJ18MCSEfC",
        "colab": {
          "base_uri": "https://localhost:8080/"
        },
        "outputId": "a8658631-4207-4262-bfd2-fbe83ecbe5e2"
      },
      "source": [
        "for i in [5 , \"texto\", 2 , -1, 4.56, True]:\n",
        "  print(\"a variável i vale:\", i)\n"
      ],
      "execution_count": null,
      "outputs": [
        {
          "output_type": "stream",
          "text": [
            "a variável i vale: 5\n",
            "a variável i vale: texto\n",
            "a variável i vale: 2\n",
            "a variável i vale: -1\n",
            "a variável i vale: 4.56\n",
            "a variável i vale: True\n"
          ],
          "name": "stdout"
        }
      ]
    },
    {
      "cell_type": "markdown",
      "metadata": {
        "id": "Z0X8VVoXOBdl"
      },
      "source": [
        "# Coleções de dados"
      ]
    },
    {
      "cell_type": "markdown",
      "metadata": {
        "id": "UaUM36SEOLB9"
      },
      "source": [
        "### Listas"
      ]
    },
    {
      "cell_type": "code",
      "metadata": {
        "id": "E9iNXUgHOEBt"
      },
      "source": [
        "lista = [0,2,4,5, 67, 89]"
      ],
      "execution_count": null,
      "outputs": []
    },
    {
      "cell_type": "code",
      "metadata": {
        "colab": {
          "base_uri": "https://localhost:8080/"
        },
        "id": "JT_mvQMqfCuG",
        "outputId": "60e75b35-72e0-471e-fd69-21288d19091c"
      },
      "source": [
        "# acessar um elemento da lista\n",
        "print(lista[4])"
      ],
      "execution_count": null,
      "outputs": [
        {
          "output_type": "stream",
          "text": [
            "67\n"
          ],
          "name": "stdout"
        }
      ]
    },
    {
      "cell_type": "code",
      "metadata": {
        "colab": {
          "base_uri": "https://localhost:8080/"
        },
        "id": "bKMMhlezgVy1",
        "outputId": "325a9d02-298e-4e8a-c80e-95c30eaa46ea"
      },
      "source": [
        "lista[4] = 10\n",
        "print(lista)"
      ],
      "execution_count": null,
      "outputs": [
        {
          "output_type": "stream",
          "text": [
            "[0, 2, 4, 5, 10, 89]\n"
          ],
          "name": "stdout"
        }
      ]
    },
    {
      "cell_type": "code",
      "metadata": {
        "id": "1ndUtTowh2mh"
      },
      "source": [
        "lista.append(98)"
      ],
      "execution_count": null,
      "outputs": []
    },
    {
      "cell_type": "code",
      "metadata": {
        "id": "r5CR8Nf8jZ1T"
      },
      "source": [
        "lista.insert(4, 12)"
      ],
      "execution_count": null,
      "outputs": []
    },
    {
      "cell_type": "code",
      "metadata": {
        "colab": {
          "base_uri": "https://localhost:8080/"
        },
        "id": "H0hTNmjBjO_V",
        "outputId": "ccce768e-4bd1-48ec-ff04-516ac1b052e4"
      },
      "source": [
        "print(lista)"
      ],
      "execution_count": null,
      "outputs": [
        {
          "output_type": "stream",
          "text": [
            "[0, 2, 4, 5, 12, 10, 89, 51, 98, 4]\n"
          ],
          "name": "stdout"
        }
      ]
    },
    {
      "cell_type": "code",
      "metadata": {
        "colab": {
          "base_uri": "https://localhost:8080/"
        },
        "id": "h__sJQrikHRK",
        "outputId": "e98d39d0-0df0-4e7e-eba7-ca5947f77402"
      },
      "source": [
        "deletado = lista.pop(7)\n",
        "print(lista)\n",
        "print(deletado)"
      ],
      "execution_count": null,
      "outputs": [
        {
          "output_type": "stream",
          "text": [
            "[0, 2, 4, 5, 12, 10, 51, 4]\n",
            "98\n"
          ],
          "name": "stdout"
        }
      ]
    },
    {
      "cell_type": "code",
      "metadata": {
        "colab": {
          "base_uri": "https://localhost:8080/"
        },
        "id": "mEE7KfNUk0p-",
        "outputId": "22726258-e2c1-4d9f-a27a-fab36038c97c"
      },
      "source": [
        "lista2 = []\n",
        "print(lista2)"
      ],
      "execution_count": null,
      "outputs": [
        {
          "output_type": "stream",
          "text": [
            "[]\n"
          ],
          "name": "stdout"
        }
      ]
    },
    {
      "cell_type": "code",
      "metadata": {
        "colab": {
          "base_uri": "https://localhost:8080/"
        },
        "id": "YgN8i0nqk69w",
        "outputId": "29b84cbd-fcd8-4f9b-b531-e3ad53ac26dd"
      },
      "source": [
        "lista2.append(\"hello\")\n",
        "print(lista2)"
      ],
      "execution_count": null,
      "outputs": [
        {
          "output_type": "stream",
          "text": [
            "['Olá', 'hello']\n"
          ],
          "name": "stdout"
        }
      ]
    },
    {
      "cell_type": "code",
      "metadata": {
        "colab": {
          "base_uri": "https://localhost:8080/"
        },
        "id": "pbMhevG7p4sj",
        "outputId": "302c3f8b-20a8-4205-ba4a-e7832ede5cd6"
      },
      "source": [
        "len(lista)"
      ],
      "execution_count": null,
      "outputs": [
        {
          "output_type": "execute_result",
          "data": {
            "text/plain": [
              "8"
            ]
          },
          "metadata": {
            "tags": []
          },
          "execution_count": 58
        }
      ]
    },
    {
      "cell_type": "markdown",
      "metadata": {
        "id": "-NL7Brd7OXQK"
      },
      "source": [
        "## Dicionários"
      ]
    },
    {
      "cell_type": "code",
      "metadata": {
        "id": "3KvZ1YQWhQ22"
      },
      "source": [
        ""
      ],
      "execution_count": null,
      "outputs": []
    },
    {
      "cell_type": "code",
      "metadata": {
        "id": "r4EImW7MSHBz"
      },
      "source": [
        ""
      ],
      "execution_count": null,
      "outputs": []
    },
    {
      "cell_type": "markdown",
      "metadata": {
        "id": "DKE8lbKVT670"
      },
      "source": [
        "## Tuplas"
      ]
    },
    {
      "cell_type": "code",
      "metadata": {
        "id": "p8xl5azdT9sy"
      },
      "source": [
        ""
      ],
      "execution_count": null,
      "outputs": []
    },
    {
      "cell_type": "markdown",
      "metadata": {
        "id": "68aRt2zTT-Vq"
      },
      "source": [
        "## Muitas outras coleções!"
      ]
    },
    {
      "cell_type": "markdown",
      "metadata": {
        "id": "lGl4nOxCSHgX"
      },
      "source": [
        "# Funções"
      ]
    },
    {
      "cell_type": "markdown",
      "metadata": {
        "id": "cfLR7Q05OHzK"
      },
      "source": [
        ""
      ]
    }
  ]
}